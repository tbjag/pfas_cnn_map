{
 "cells": [
  {
   "cell_type": "code",
   "execution_count": 4,
   "id": "ea6b14e8-d9e8-4b5e-94ad-b5be399c1add",
   "metadata": {},
   "outputs": [],
   "source": [
    "import pandas as pd\n",
    "import geopandas as gpd\n",
    "import numpy as np\n",
    "import torch"
   ]
  },
  {
   "cell_type": "code",
   "execution_count": 2,
   "id": "00fa0f8b-487e-4a04-a3e5-213bab4bea6c",
   "metadata": {},
   "outputs": [],
   "source": [
    "# Assuming 'grid_with_pfas.zip' is in the current working directory\n",
    "gdf = gpd.read_file('basin_join_pfas/basin_join_pfas.shp')"
   ]
  },
  {
   "cell_type": "code",
   "execution_count": 5,
   "id": "0b641cfb-75ef-4f4c-a4bd-7b2e4b433ed9",
   "metadata": {},
   "outputs": [
    {
     "data": {
      "text/plain": [
       "PFAS_total     float64\n",
       "tnmid           object\n",
       "metasource      object\n",
       "sourcedata      object\n",
       "sourceorig      object\n",
       "sourcefeat      object\n",
       "gnis_id        float64\n",
       "areaacres      float64\n",
       "areasqkm       float64\n",
       "states          object\n",
       "huc8            object\n",
       "name            object\n",
       "shape_star     float64\n",
       "shape_stle     float64\n",
       "geometry      geometry\n",
       "dtype: object"
      ]
     },
     "execution_count": 5,
     "metadata": {},
     "output_type": "execute_result"
    }
   ],
   "source": [
    "gdf.dtypes"
   ]
  },
  {
   "cell_type": "code",
   "execution_count": 7,
   "id": "6d2dee9d-fa42-4797-be44-0707ad9b140e",
   "metadata": {},
   "outputs": [
    {
     "data": {
      "text/html": [
       "<div>\n",
       "<style scoped>\n",
       "    .dataframe tbody tr th:only-of-type {\n",
       "        vertical-align: middle;\n",
       "    }\n",
       "\n",
       "    .dataframe tbody tr th {\n",
       "        vertical-align: top;\n",
       "    }\n",
       "\n",
       "    .dataframe thead th {\n",
       "        text-align: right;\n",
       "    }\n",
       "</style>\n",
       "<table border=\"1\" class=\"dataframe\">\n",
       "  <thead>\n",
       "    <tr style=\"text-align: right;\">\n",
       "      <th></th>\n",
       "      <th>PFAS_total</th>\n",
       "      <th>tnmid</th>\n",
       "      <th>metasource</th>\n",
       "      <th>sourcedata</th>\n",
       "      <th>sourceorig</th>\n",
       "      <th>sourcefeat</th>\n",
       "      <th>gnis_id</th>\n",
       "      <th>areaacres</th>\n",
       "      <th>areasqkm</th>\n",
       "      <th>states</th>\n",
       "      <th>huc8</th>\n",
       "      <th>name</th>\n",
       "      <th>shape_star</th>\n",
       "      <th>shape_stle</th>\n",
       "      <th>geometry</th>\n",
       "    </tr>\n",
       "  </thead>\n",
       "  <tbody>\n",
       "    <tr>\n",
       "      <th>0</th>\n",
       "      <td>989.7</td>\n",
       "      <td>{1D790622-4BC5-4E35-9C0C-0F0192C2D49F}</td>\n",
       "      <td>None</td>\n",
       "      <td>None</td>\n",
       "      <td>None</td>\n",
       "      <td>None</td>\n",
       "      <td>0.0</td>\n",
       "      <td>645676.0</td>\n",
       "      <td>2613.016031</td>\n",
       "      <td>CA</td>\n",
       "      <td>18020156</td>\n",
       "      <td>Thomes Creek-Sacramento River</td>\n",
       "      <td>0.275898</td>\n",
       "      <td>4.450838</td>\n",
       "      <td>POLYGON ((-121.50734 40.48375, -121.50730 40.4...</td>\n",
       "    </tr>\n",
       "    <tr>\n",
       "      <th>1</th>\n",
       "      <td>66.8</td>\n",
       "      <td>{5AE4114D-8323-42BB-9F33-8B7C27B16203}</td>\n",
       "      <td>None</td>\n",
       "      <td>None</td>\n",
       "      <td>None</td>\n",
       "      <td>None</td>\n",
       "      <td>0.0</td>\n",
       "      <td>1198581.0</td>\n",
       "      <td>4850.592025</td>\n",
       "      <td>CA</td>\n",
       "      <td>18040009</td>\n",
       "      <td>Upper Tuolumne</td>\n",
       "      <td>0.496950</td>\n",
       "      <td>6.338565</td>\n",
       "      <td>POLYGON ((-119.65612 38.22947, -119.65575 38.2...</td>\n",
       "    </tr>\n",
       "    <tr>\n",
       "      <th>2</th>\n",
       "      <td>65.5</td>\n",
       "      <td>{5AE4114D-8323-42BB-9F33-8B7C27B16203}</td>\n",
       "      <td>None</td>\n",
       "      <td>None</td>\n",
       "      <td>None</td>\n",
       "      <td>None</td>\n",
       "      <td>0.0</td>\n",
       "      <td>1198581.0</td>\n",
       "      <td>4850.592025</td>\n",
       "      <td>CA</td>\n",
       "      <td>18040009</td>\n",
       "      <td>Upper Tuolumne</td>\n",
       "      <td>0.496950</td>\n",
       "      <td>6.338565</td>\n",
       "      <td>POLYGON ((-119.65612 38.22947, -119.65575 38.2...</td>\n",
       "    </tr>\n",
       "    <tr>\n",
       "      <th>3</th>\n",
       "      <td>62.8</td>\n",
       "      <td>{5AE4114D-8323-42BB-9F33-8B7C27B16203}</td>\n",
       "      <td>None</td>\n",
       "      <td>None</td>\n",
       "      <td>None</td>\n",
       "      <td>None</td>\n",
       "      <td>0.0</td>\n",
       "      <td>1198581.0</td>\n",
       "      <td>4850.592025</td>\n",
       "      <td>CA</td>\n",
       "      <td>18040009</td>\n",
       "      <td>Upper Tuolumne</td>\n",
       "      <td>0.496950</td>\n",
       "      <td>6.338565</td>\n",
       "      <td>POLYGON ((-119.65612 38.22947, -119.65575 38.2...</td>\n",
       "    </tr>\n",
       "    <tr>\n",
       "      <th>4</th>\n",
       "      <td>65.5</td>\n",
       "      <td>{5AE4114D-8323-42BB-9F33-8B7C27B16203}</td>\n",
       "      <td>None</td>\n",
       "      <td>None</td>\n",
       "      <td>None</td>\n",
       "      <td>None</td>\n",
       "      <td>0.0</td>\n",
       "      <td>1198581.0</td>\n",
       "      <td>4850.592025</td>\n",
       "      <td>CA</td>\n",
       "      <td>18040009</td>\n",
       "      <td>Upper Tuolumne</td>\n",
       "      <td>0.496950</td>\n",
       "      <td>6.338565</td>\n",
       "      <td>POLYGON ((-119.65612 38.22947, -119.65575 38.2...</td>\n",
       "    </tr>\n",
       "  </tbody>\n",
       "</table>\n",
       "</div>"
      ],
      "text/plain": [
       "   PFAS_total                                   tnmid metasource sourcedata  \\\n",
       "0       989.7  {1D790622-4BC5-4E35-9C0C-0F0192C2D49F}       None       None   \n",
       "1        66.8  {5AE4114D-8323-42BB-9F33-8B7C27B16203}       None       None   \n",
       "2        65.5  {5AE4114D-8323-42BB-9F33-8B7C27B16203}       None       None   \n",
       "3        62.8  {5AE4114D-8323-42BB-9F33-8B7C27B16203}       None       None   \n",
       "4        65.5  {5AE4114D-8323-42BB-9F33-8B7C27B16203}       None       None   \n",
       "\n",
       "  sourceorig sourcefeat  gnis_id  areaacres     areasqkm states      huc8  \\\n",
       "0       None       None      0.0   645676.0  2613.016031     CA  18020156   \n",
       "1       None       None      0.0  1198581.0  4850.592025     CA  18040009   \n",
       "2       None       None      0.0  1198581.0  4850.592025     CA  18040009   \n",
       "3       None       None      0.0  1198581.0  4850.592025     CA  18040009   \n",
       "4       None       None      0.0  1198581.0  4850.592025     CA  18040009   \n",
       "\n",
       "                            name  shape_star  shape_stle  \\\n",
       "0  Thomes Creek-Sacramento River    0.275898    4.450838   \n",
       "1                 Upper Tuolumne    0.496950    6.338565   \n",
       "2                 Upper Tuolumne    0.496950    6.338565   \n",
       "3                 Upper Tuolumne    0.496950    6.338565   \n",
       "4                 Upper Tuolumne    0.496950    6.338565   \n",
       "\n",
       "                                            geometry  \n",
       "0  POLYGON ((-121.50734 40.48375, -121.50730 40.4...  \n",
       "1  POLYGON ((-119.65612 38.22947, -119.65575 38.2...  \n",
       "2  POLYGON ((-119.65612 38.22947, -119.65575 38.2...  \n",
       "3  POLYGON ((-119.65612 38.22947, -119.65575 38.2...  \n",
       "4  POLYGON ((-119.65612 38.22947, -119.65575 38.2...  "
      ]
     },
     "execution_count": 7,
     "metadata": {},
     "output_type": "execute_result"
    }
   ],
   "source": [
    "gdf.head(5)"
   ]
  },
  {
   "cell_type": "code",
   "execution_count": 8,
   "id": "f1e974fd-fbed-4fd5-9b8d-f8c320dc2d12",
   "metadata": {},
   "outputs": [
    {
     "ename": "TypeError",
     "evalue": "can't convert np.ndarray of type numpy.object_. The only supported types are: float64, float32, float16, complex64, complex128, int64, int32, int16, int8, uint8, and bool.",
     "output_type": "error",
     "traceback": [
      "\u001b[0;31m---------------------------------------------------------------------------\u001b[0m",
      "\u001b[0;31mTypeError\u001b[0m                                 Traceback (most recent call last)",
      "Cell \u001b[0;32mIn[8], line 1\u001b[0m\n\u001b[0;32m----> 1\u001b[0m torch_tensor \u001b[38;5;241m=\u001b[39m \u001b[43mtorch\u001b[49m\u001b[38;5;241;43m.\u001b[39;49m\u001b[43mtensor\u001b[49m\u001b[43m(\u001b[49m\u001b[43mgdf\u001b[49m\u001b[38;5;241;43m.\u001b[39;49m\u001b[43mvalues\u001b[49m\u001b[43m,\u001b[49m\u001b[43m \u001b[49m\u001b[43mdtype\u001b[49m\u001b[38;5;241;43m=\u001b[39;49m\u001b[43mtorch\u001b[49m\u001b[38;5;241;43m.\u001b[39;49m\u001b[43mfloat32\u001b[49m\u001b[43m)\u001b[49m\n",
      "\u001b[0;31mTypeError\u001b[0m: can't convert np.ndarray of type numpy.object_. The only supported types are: float64, float32, float16, complex64, complex128, int64, int32, int16, int8, uint8, and bool."
     ]
    }
   ],
   "source": [
    "torch_tensor = torch.tensor(gdf.values, dtype=torch.float32)"
   ]
  },
  {
   "cell_type": "code",
   "execution_count": null,
   "id": "de931f16-2ac1-48b6-aab3-bfa6e69bf93f",
   "metadata": {},
   "outputs": [],
   "source": []
  }
 ],
 "metadata": {
  "kernelspec": {
   "display_name": "Python 3 (ipykernel)",
   "language": "python",
   "name": "python3"
  },
  "language_info": {
   "codemirror_mode": {
    "name": "ipython",
    "version": 3
   },
   "file_extension": ".py",
   "mimetype": "text/x-python",
   "name": "python",
   "nbconvert_exporter": "python",
   "pygments_lexer": "ipython3",
   "version": "3.10.13"
  }
 },
 "nbformat": 4,
 "nbformat_minor": 5
}
