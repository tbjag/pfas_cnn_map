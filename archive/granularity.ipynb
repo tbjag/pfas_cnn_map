{
 "cells": [
  {
   "cell_type": "code",
   "execution_count": 13,
   "metadata": {
    "executionInfo": {
     "elapsed": 144,
     "status": "ok",
     "timestamp": 1704930298403,
     "user": {
      "displayName": "Theodore Bromet Jagodits",
      "userId": "10980086572780053502"
     },
     "user_tz": 480
    },
    "id": "PjuAKPApIB4l"
   },
   "outputs": [],
   "source": [
    "# import libraries\n",
    "import pandas as pd\n",
    "import geopandas as gpd\n",
    "import numpy as np\n",
    "from shapely.geometry import Point, Polygon\n",
    "import matplotlib.pyplot as plt\n",
    "from matplotlib.colors import Normalize, LogNorm"
   ]
  },
  {
   "cell_type": "code",
   "execution_count": 14,
   "metadata": {
    "executionInfo": {
     "elapsed": 1602,
     "status": "ok",
     "timestamp": 1704930157420,
     "user": {
      "displayName": "Theodore Bromet Jagodits",
      "userId": "10980086572780053502"
     },
     "user_tz": 480
    },
    "id": "nZoGR_BXIMYO"
   },
   "outputs": [],
   "source": [
    "# read og data from drive\n",
    "df = pd.read_csv('pfas_clean.csv')\n",
    "df['date'] = pd.to_datetime(df['date'])"
   ]
  },
  {
   "cell_type": "code",
   "execution_count": 15,
   "metadata": {
    "colab": {
     "base_uri": "https://localhost:8080/",
     "height": 206
    },
    "executionInfo": {
     "elapsed": 4,
     "status": "ok",
     "timestamp": 1704930157421,
     "user": {
      "displayName": "Theodore Bromet Jagodits",
      "userId": "10980086572780053502"
     },
     "user_tz": 480
    },
    "id": "SDcoKMxxIWP-",
    "outputId": "312fd53e-208d-4c8a-8a30-d75867a3c0b6"
   },
   "outputs": [],
   "source": [
    "# filter data to points and value for testing purposes\n",
    "df_clean = df[['date', 'PFAS_total', 'longitude', 'latitude']]"
   ]
  },
  {
   "cell_type": "code",
   "execution_count": 16,
   "metadata": {
    "colab": {
     "base_uri": "https://localhost:8080/",
     "height": 293
    },
    "executionInfo": {
     "elapsed": 3788,
     "status": "ok",
     "timestamp": 1704930164615,
     "user": {
      "displayName": "Theodore Bromet Jagodits",
      "userId": "10980086572780053502"
     },
     "user_tz": 480
    },
    "id": "8WF4Sb1yJow6",
    "outputId": "df919e9f-fb32-4471-d6fd-51b45e7fe1be"
   },
   "outputs": [],
   "source": [
    "# get basin data\n",
    "file_path = 'stanford-sr396hp9621-shapefile.zip'\n",
    "\n",
    "# Read the zip file\n",
    "basins = gpd.read_file('zip://' + file_path)"
   ]
  },
  {
   "cell_type": "code",
   "execution_count": 17,
   "metadata": {
    "colab": {
     "base_uri": "https://localhost:8080/",
     "height": 206
    },
    "executionInfo": {
     "elapsed": 436,
     "status": "ok",
     "timestamp": 1704930165049,
     "user": {
      "displayName": "Theodore Bromet Jagodits",
      "userId": "10980086572780053502"
     },
     "user_tz": 480
    },
    "id": "QwWjZM_wJ1Gs",
    "outputId": "890fb16f-9f7c-4446-c64c-c81e6244ca7c"
   },
   "outputs": [],
   "source": [
    "# Assuming your regular pandas DataFrame is df_points\n",
    "geometry = [Point(xy) for xy in zip(df_clean['longitude'], df_clean['latitude'])]\n",
    "df_points = gpd.GeoDataFrame(df_clean, geometry=geometry)\n",
    "# drop long lat, no longer needed\n",
    "df_points = df_points.drop(['longitude', 'latitude'], axis = 1)"
   ]
  },
  {
   "cell_type": "code",
   "execution_count": 18,
   "metadata": {
    "executionInfo": {
     "elapsed": 2,
     "status": "ok",
     "timestamp": 1704930165049,
     "user": {
      "displayName": "Theodore Bromet Jagodits",
      "userId": "10980086572780053502"
     },
     "user_tz": 480
    },
    "id": "Jhp48ajeLHcv"
   },
   "outputs": [],
   "source": [
    "# does groupby by taking the first value\n",
    "df_points_unique_first = df_points.groupby('geometry').first().reset_index()\n",
    "df_points_unique_first = df_points_unique_first.dropna(subset=['geometry'])"
   ]
  },
  {
   "cell_type": "code",
   "execution_count": 19,
   "metadata": {
    "executionInfo": {
     "elapsed": 2,
     "status": "ok",
     "timestamp": 1704930165049,
     "user": {
      "displayName": "Theodore Bromet Jagodits",
      "userId": "10980086572780053502"
     },
     "user_tz": 480
    },
    "id": "panMnCfyLL1G"
   },
   "outputs": [],
   "source": [
    "# does groupby by avg\n",
    "df_points_unique_mean= df_points.groupby('geometry').mean(numeric_only=True).reset_index()\n",
    "df_points_unique_mean = df_points_unique_mean.dropna(subset=['geometry'])"
   ]
  },
  {
   "cell_type": "code",
   "execution_count": 20,
   "metadata": {
    "executionInfo": {
     "elapsed": 580,
     "status": "ok",
     "timestamp": 1704930165627,
     "user": {
      "displayName": "Theodore Bromet Jagodits",
      "userId": "10980086572780053502"
     },
     "user_tz": 480
    },
    "id": "KzJd5fijRWlZ"
   },
   "outputs": [],
   "source": [
    "# groupby get latest date\n",
    "latest_date_indices = df_points.groupby('geometry')['date'].idxmax()\n",
    "df_points_unique_latest_date = df_points.loc[latest_date_indices].reset_index(drop=True)"
   ]
  },
  {
   "cell_type": "code",
   "execution_count": 21,
   "metadata": {
    "executionInfo": {
     "elapsed": 267,
     "status": "ok",
     "timestamp": 1704930165893,
     "user": {
      "displayName": "Theodore Bromet Jagodits",
      "userId": "10980086572780053502"
     },
     "user_tz": 480
    },
    "id": "1uetFrJpRYcV"
   },
   "outputs": [],
   "source": [
    "# we will use latest date, can change later\n",
    "# joining basins with points\n",
    "df_points_unique_latest_date.crs = 'EPSG:4326'\n",
    "basins = basins.to_crs(df_points_unique_latest_date.crs)\n",
    "result = gpd.sjoin(df_points_unique_latest_date, basins, how='right', predicate='within') #change predicate?"
   ]
  },
  {
   "cell_type": "code",
   "execution_count": 22,
   "metadata": {
    "colab": {
     "base_uri": "https://localhost:8080/",
     "height": 380
    },
    "executionInfo": {
     "elapsed": 675,
     "status": "ok",
     "timestamp": 1704331356189,
     "user": {
      "displayName": "Theodore Bromet Jagodits",
      "userId": "10980086572780053502"
     },
     "user_tz": 480
    },
    "id": "K2bkwYzqSoT_",
    "outputId": "893921f1-b519-4f60-f17a-37259ee3947b"
   },
   "outputs": [],
   "source": [
    "# save and use as data\n",
    "without_load_date = result.drop(['date','loaddate'], axis=1, inplace=False)\n",
    "\n",
    "without_load_date.to_file('basin_join_pfas/basin_join_pfas.shp')"
   ]
  },
  {
   "cell_type": "code",
   "execution_count": 23,
   "metadata": {
    "colab": {
     "base_uri": "https://localhost:8080/"
    },
    "executionInfo": {
     "elapsed": 145,
     "status": "ok",
     "timestamp": 1704930168567,
     "user": {
      "displayName": "Theodore Bromet Jagodits",
      "userId": "10980086572780053502"
     },
     "user_tz": 480
    },
    "id": "moWygfmxUYiF",
    "outputId": "4fe2a075-06bb-4e43-a84d-a51d2405a8c5"
   },
   "outputs": [
    {
     "name": "stdout",
     "output_type": "stream",
     "text": [
      "Map Boundary: [-124.53512391   31.64409828 -113.05084271   43.00797516]\n"
     ]
    }
   ],
   "source": [
    "# get CA bounding box\n",
    "# find how long/lat correlates to area\n",
    "map_boundary = result.total_bounds\n",
    "print(\"Map Boundary:\", map_boundary)\n",
    "# negative is long, positive lat"
   ]
  },
  {
   "cell_type": "code",
   "execution_count": 26,
   "metadata": {},
   "outputs": [
    {
     "data": {
      "text/html": [
       "<div>\n",
       "<style scoped>\n",
       "    .dataframe tbody tr th:only-of-type {\n",
       "        vertical-align: middle;\n",
       "    }\n",
       "\n",
       "    .dataframe tbody tr th {\n",
       "        vertical-align: top;\n",
       "    }\n",
       "\n",
       "    .dataframe thead th {\n",
       "        text-align: right;\n",
       "    }\n",
       "</style>\n",
       "<table border=\"1\" class=\"dataframe\">\n",
       "  <thead>\n",
       "    <tr style=\"text-align: right;\">\n",
       "      <th></th>\n",
       "      <th>date</th>\n",
       "      <th>PFAS_total</th>\n",
       "      <th>tnmid</th>\n",
       "      <th>metasource</th>\n",
       "      <th>sourcedata</th>\n",
       "      <th>sourceorig</th>\n",
       "      <th>sourcefeat</th>\n",
       "      <th>loaddate</th>\n",
       "      <th>gnis_id</th>\n",
       "      <th>areaacres</th>\n",
       "      <th>areasqkm</th>\n",
       "      <th>states</th>\n",
       "      <th>huc8</th>\n",
       "      <th>name</th>\n",
       "      <th>shape_star</th>\n",
       "      <th>shape_stle</th>\n",
       "      <th>geometry</th>\n",
       "    </tr>\n",
       "  </thead>\n",
       "  <tbody>\n",
       "    <tr>\n",
       "      <th>0</th>\n",
       "      <td>2022-03-29</td>\n",
       "      <td>989.7</td>\n",
       "      <td>{1D790622-4BC5-4E35-9C0C-0F0192C2D49F}</td>\n",
       "      <td>None</td>\n",
       "      <td>None</td>\n",
       "      <td>None</td>\n",
       "      <td>None</td>\n",
       "      <td>2012-06-11</td>\n",
       "      <td>0.0</td>\n",
       "      <td>645676.0</td>\n",
       "      <td>2613.016031</td>\n",
       "      <td>CA</td>\n",
       "      <td>18020156</td>\n",
       "      <td>Thomes Creek-Sacramento River</td>\n",
       "      <td>0.275898</td>\n",
       "      <td>4.450838</td>\n",
       "      <td>POLYGON ((-121.50734 40.48375, -121.50730 40.4...</td>\n",
       "    </tr>\n",
       "    <tr>\n",
       "      <th>1</th>\n",
       "      <td>2020-12-03</td>\n",
       "      <td>66.8</td>\n",
       "      <td>{5AE4114D-8323-42BB-9F33-8B7C27B16203}</td>\n",
       "      <td>None</td>\n",
       "      <td>None</td>\n",
       "      <td>None</td>\n",
       "      <td>None</td>\n",
       "      <td>2012-06-11</td>\n",
       "      <td>0.0</td>\n",
       "      <td>1198581.0</td>\n",
       "      <td>4850.592025</td>\n",
       "      <td>CA</td>\n",
       "      <td>18040009</td>\n",
       "      <td>Upper Tuolumne</td>\n",
       "      <td>0.496950</td>\n",
       "      <td>6.338565</td>\n",
       "      <td>POLYGON ((-119.65612 38.22947, -119.65575 38.2...</td>\n",
       "    </tr>\n",
       "    <tr>\n",
       "      <th>1</th>\n",
       "      <td>2021-01-13</td>\n",
       "      <td>65.5</td>\n",
       "      <td>{5AE4114D-8323-42BB-9F33-8B7C27B16203}</td>\n",
       "      <td>None</td>\n",
       "      <td>None</td>\n",
       "      <td>None</td>\n",
       "      <td>None</td>\n",
       "      <td>2012-06-11</td>\n",
       "      <td>0.0</td>\n",
       "      <td>1198581.0</td>\n",
       "      <td>4850.592025</td>\n",
       "      <td>CA</td>\n",
       "      <td>18040009</td>\n",
       "      <td>Upper Tuolumne</td>\n",
       "      <td>0.496950</td>\n",
       "      <td>6.338565</td>\n",
       "      <td>POLYGON ((-119.65612 38.22947, -119.65575 38.2...</td>\n",
       "    </tr>\n",
       "    <tr>\n",
       "      <th>1</th>\n",
       "      <td>2021-03-09</td>\n",
       "      <td>62.8</td>\n",
       "      <td>{5AE4114D-8323-42BB-9F33-8B7C27B16203}</td>\n",
       "      <td>None</td>\n",
       "      <td>None</td>\n",
       "      <td>None</td>\n",
       "      <td>None</td>\n",
       "      <td>2012-06-11</td>\n",
       "      <td>0.0</td>\n",
       "      <td>1198581.0</td>\n",
       "      <td>4850.592025</td>\n",
       "      <td>CA</td>\n",
       "      <td>18040009</td>\n",
       "      <td>Upper Tuolumne</td>\n",
       "      <td>0.496950</td>\n",
       "      <td>6.338565</td>\n",
       "      <td>POLYGON ((-119.65612 38.22947, -119.65575 38.2...</td>\n",
       "    </tr>\n",
       "    <tr>\n",
       "      <th>1</th>\n",
       "      <td>2021-03-09</td>\n",
       "      <td>65.5</td>\n",
       "      <td>{5AE4114D-8323-42BB-9F33-8B7C27B16203}</td>\n",
       "      <td>None</td>\n",
       "      <td>None</td>\n",
       "      <td>None</td>\n",
       "      <td>None</td>\n",
       "      <td>2012-06-11</td>\n",
       "      <td>0.0</td>\n",
       "      <td>1198581.0</td>\n",
       "      <td>4850.592025</td>\n",
       "      <td>CA</td>\n",
       "      <td>18040009</td>\n",
       "      <td>Upper Tuolumne</td>\n",
       "      <td>0.496950</td>\n",
       "      <td>6.338565</td>\n",
       "      <td>POLYGON ((-119.65612 38.22947, -119.65575 38.2...</td>\n",
       "    </tr>\n",
       "  </tbody>\n",
       "</table>\n",
       "</div>"
      ],
      "text/plain": [
       "        date  PFAS_total                                   tnmid metasource  \\\n",
       "0 2022-03-29       989.7  {1D790622-4BC5-4E35-9C0C-0F0192C2D49F}       None   \n",
       "1 2020-12-03        66.8  {5AE4114D-8323-42BB-9F33-8B7C27B16203}       None   \n",
       "1 2021-01-13        65.5  {5AE4114D-8323-42BB-9F33-8B7C27B16203}       None   \n",
       "1 2021-03-09        62.8  {5AE4114D-8323-42BB-9F33-8B7C27B16203}       None   \n",
       "1 2021-03-09        65.5  {5AE4114D-8323-42BB-9F33-8B7C27B16203}       None   \n",
       "\n",
       "  sourcedata sourceorig sourcefeat    loaddate  gnis_id  areaacres  \\\n",
       "0       None       None       None  2012-06-11      0.0   645676.0   \n",
       "1       None       None       None  2012-06-11      0.0  1198581.0   \n",
       "1       None       None       None  2012-06-11      0.0  1198581.0   \n",
       "1       None       None       None  2012-06-11      0.0  1198581.0   \n",
       "1       None       None       None  2012-06-11      0.0  1198581.0   \n",
       "\n",
       "      areasqkm states      huc8                           name  shape_star  \\\n",
       "0  2613.016031     CA  18020156  Thomes Creek-Sacramento River    0.275898   \n",
       "1  4850.592025     CA  18040009                 Upper Tuolumne    0.496950   \n",
       "1  4850.592025     CA  18040009                 Upper Tuolumne    0.496950   \n",
       "1  4850.592025     CA  18040009                 Upper Tuolumne    0.496950   \n",
       "1  4850.592025     CA  18040009                 Upper Tuolumne    0.496950   \n",
       "\n",
       "   shape_stle                                           geometry  \n",
       "0    4.450838  POLYGON ((-121.50734 40.48375, -121.50730 40.4...  \n",
       "1    6.338565  POLYGON ((-119.65612 38.22947, -119.65575 38.2...  \n",
       "1    6.338565  POLYGON ((-119.65612 38.22947, -119.65575 38.2...  \n",
       "1    6.338565  POLYGON ((-119.65612 38.22947, -119.65575 38.2...  \n",
       "1    6.338565  POLYGON ((-119.65612 38.22947, -119.65575 38.2...  "
      ]
     },
     "execution_count": 26,
     "metadata": {},
     "output_type": "execute_result"
    }
   ],
   "source": [
    "result.head(5)"
   ]
  },
  {
   "cell_type": "code",
   "execution_count": null,
   "metadata": {},
   "outputs": [],
   "source": [
    "# Define grid cell size in kilometers\n",
    "granularity = .01 # Adjust as needed\n",
    "\n",
    "# Create a bounding box around area\n",
    "xmin, ymin, xmax, ymax = result.total_bounds\n",
    "x_grid = np.arange(xmin, xmax, granularity)\n",
    "y_grid = np.arange(ymin, ymax, granularity)\n",
    "\n",
    "# Create a GeoDataFrame for the grid\n",
    "grid_cells = gpd.GeoDataFrame(geometry=[Polygon([(x, y), (x + granularity, y), (x + granularity, y + granularity), (x, y + granularity)]) for x in x_grid for y in y_grid], crs=\"EPSG:4326\")"
   ]
  },
  {
   "cell_type": "code",
   "execution_count": 28,
   "metadata": {},
   "outputs": [
    {
     "ename": "KeyboardInterrupt",
     "evalue": "",
     "output_type": "error",
     "traceback": [
      "\u001b[0;31m---------------------------------------------------------------------------\u001b[0m",
      "\u001b[0;31mKeyboardInterrupt\u001b[0m                         Traceback (most recent call last)",
      "Cell \u001b[0;32mIn[28], line 21\u001b[0m\n\u001b[1;32m     19\u001b[0m individual_point \u001b[38;5;241m=\u001b[39m Point(curr_x, curr_y)\n\u001b[1;32m     20\u001b[0m pfas_val \u001b[38;5;241m=\u001b[39m \u001b[38;5;241m0\u001b[39m\n\u001b[0;32m---> 21\u001b[0m \u001b[38;5;28;01mfor\u001b[39;00m _, basin \u001b[38;5;129;01min\u001b[39;00m result\u001b[38;5;241m.\u001b[39miterrows(): \u001b[38;5;66;03m# search through basins\u001b[39;00m\n\u001b[1;32m     22\u001b[0m     \u001b[38;5;28;01mif\u001b[39;00m individual_point\u001b[38;5;241m.\u001b[39mintersects(basin[\u001b[38;5;124m'\u001b[39m\u001b[38;5;124mgeometry\u001b[39m\u001b[38;5;124m'\u001b[39m]):\n\u001b[1;32m     23\u001b[0m         pfas_val \u001b[38;5;241m=\u001b[39m basin[\u001b[38;5;124m'\u001b[39m\u001b[38;5;124mPFAS_total\u001b[39m\u001b[38;5;124m'\u001b[39m] \n",
      "File \u001b[0;32m~/.pyenv/versions/3.10.13/envs/pfas/lib/python3.10/site-packages/pandas/core/frame.py:1542\u001b[0m, in \u001b[0;36mDataFrame.iterrows\u001b[0;34m(self)\u001b[0m\n\u001b[1;32m   1540\u001b[0m using_cow \u001b[38;5;241m=\u001b[39m using_copy_on_write()\n\u001b[1;32m   1541\u001b[0m \u001b[38;5;28;01mfor\u001b[39;00m k, v \u001b[38;5;129;01min\u001b[39;00m \u001b[38;5;28mzip\u001b[39m(\u001b[38;5;28mself\u001b[39m\u001b[38;5;241m.\u001b[39mindex, \u001b[38;5;28mself\u001b[39m\u001b[38;5;241m.\u001b[39mvalues):\n\u001b[0;32m-> 1542\u001b[0m     s \u001b[38;5;241m=\u001b[39m \u001b[43mklass\u001b[49m\u001b[43m(\u001b[49m\u001b[43mv\u001b[49m\u001b[43m,\u001b[49m\u001b[43m \u001b[49m\u001b[43mindex\u001b[49m\u001b[38;5;241;43m=\u001b[39;49m\u001b[43mcolumns\u001b[49m\u001b[43m,\u001b[49m\u001b[43m \u001b[49m\u001b[43mname\u001b[49m\u001b[38;5;241;43m=\u001b[39;49m\u001b[43mk\u001b[49m\u001b[43m)\u001b[49m\u001b[38;5;241m.\u001b[39m__finalize__(\u001b[38;5;28mself\u001b[39m)\n\u001b[1;32m   1543\u001b[0m     \u001b[38;5;28;01mif\u001b[39;00m using_cow \u001b[38;5;129;01mand\u001b[39;00m \u001b[38;5;28mself\u001b[39m\u001b[38;5;241m.\u001b[39m_mgr\u001b[38;5;241m.\u001b[39mis_single_block:\n\u001b[1;32m   1544\u001b[0m         s\u001b[38;5;241m.\u001b[39m_mgr\u001b[38;5;241m.\u001b[39madd_references(\u001b[38;5;28mself\u001b[39m\u001b[38;5;241m.\u001b[39m_mgr)  \u001b[38;5;66;03m# type: ignore[arg-type]\u001b[39;00m\n",
      "File \u001b[0;32m~/.pyenv/versions/3.10.13/envs/pfas/lib/python3.10/site-packages/geopandas/geodataframe.py:1645\u001b[0m, in \u001b[0;36mGeoDataFrame._constructor_sliced.<locals>._geodataframe_constructor_sliced\u001b[0;34m(*args, **kwargs)\u001b[0m\n\u001b[1;32m   1629\u001b[0m \u001b[38;5;28;01mdef\u001b[39;00m \u001b[38;5;21m_geodataframe_constructor_sliced\u001b[39m(\u001b[38;5;241m*\u001b[39margs, \u001b[38;5;241m*\u001b[39m\u001b[38;5;241m*\u001b[39mkwargs):\n\u001b[1;32m   1630\u001b[0m \u001b[38;5;250m    \u001b[39m\u001b[38;5;124;03m\"\"\"\u001b[39;00m\n\u001b[1;32m   1631\u001b[0m \u001b[38;5;124;03m    A specialized (Geo)Series constructor which can fall back to a\u001b[39;00m\n\u001b[1;32m   1632\u001b[0m \u001b[38;5;124;03m    Series if a certain operation does not produce geometries:\u001b[39;00m\n\u001b[0;32m   (...)\u001b[0m\n\u001b[1;32m   1643\u001b[0m \u001b[38;5;124;03m      checking the identity of the index)\u001b[39;00m\n\u001b[1;32m   1644\u001b[0m \u001b[38;5;124;03m    \"\"\"\u001b[39;00m\n\u001b[0;32m-> 1645\u001b[0m     srs \u001b[38;5;241m=\u001b[39m \u001b[43mpd\u001b[49m\u001b[38;5;241;43m.\u001b[39;49m\u001b[43mSeries\u001b[49m\u001b[43m(\u001b[49m\u001b[38;5;241;43m*\u001b[39;49m\u001b[43margs\u001b[49m\u001b[43m,\u001b[49m\u001b[43m \u001b[49m\u001b[38;5;241;43m*\u001b[39;49m\u001b[38;5;241;43m*\u001b[39;49m\u001b[43mkwargs\u001b[49m\u001b[43m)\u001b[49m\n\u001b[1;32m   1646\u001b[0m     is_row_proxy \u001b[38;5;241m=\u001b[39m srs\u001b[38;5;241m.\u001b[39mindex \u001b[38;5;129;01mis\u001b[39;00m \u001b[38;5;28mself\u001b[39m\u001b[38;5;241m.\u001b[39mcolumns\n\u001b[1;32m   1647\u001b[0m     \u001b[38;5;28;01mif\u001b[39;00m is_geometry_type(srs) \u001b[38;5;129;01mand\u001b[39;00m \u001b[38;5;129;01mnot\u001b[39;00m is_row_proxy:\n",
      "File \u001b[0;32m~/.pyenv/versions/3.10.13/envs/pfas/lib/python3.10/site-packages/pandas/core/series.py:409\u001b[0m, in \u001b[0;36mSeries.__init__\u001b[0;34m(self, data, index, dtype, name, copy, fastpath)\u001b[0m\n\u001b[1;32m    405\u001b[0m     fastpath \u001b[38;5;241m=\u001b[39m \u001b[38;5;28;01mFalse\u001b[39;00m\n\u001b[1;32m    407\u001b[0m allow_mgr \u001b[38;5;241m=\u001b[39m \u001b[38;5;28;01mFalse\u001b[39;00m\n\u001b[1;32m    408\u001b[0m \u001b[38;5;28;01mif\u001b[39;00m (\n\u001b[0;32m--> 409\u001b[0m     \u001b[38;5;28;43misinstance\u001b[39;49m\u001b[43m(\u001b[49m\u001b[43mdata\u001b[49m\u001b[43m,\u001b[49m\u001b[43m \u001b[49m\u001b[43m(\u001b[49m\u001b[43mSingleBlockManager\u001b[49m\u001b[43m,\u001b[49m\u001b[43m \u001b[49m\u001b[43mSingleArrayManager\u001b[49m\u001b[43m)\u001b[49m\u001b[43m)\u001b[49m\n\u001b[1;32m    410\u001b[0m     \u001b[38;5;129;01mand\u001b[39;00m index \u001b[38;5;129;01mis\u001b[39;00m \u001b[38;5;28;01mNone\u001b[39;00m\n\u001b[1;32m    411\u001b[0m     \u001b[38;5;129;01mand\u001b[39;00m dtype \u001b[38;5;129;01mis\u001b[39;00m \u001b[38;5;28;01mNone\u001b[39;00m\n\u001b[1;32m    412\u001b[0m     \u001b[38;5;129;01mand\u001b[39;00m (copy \u001b[38;5;129;01mis\u001b[39;00m \u001b[38;5;28;01mFalse\u001b[39;00m \u001b[38;5;129;01mor\u001b[39;00m copy \u001b[38;5;129;01mis\u001b[39;00m \u001b[38;5;28;01mNone\u001b[39;00m)\n\u001b[1;32m    413\u001b[0m ):\n\u001b[1;32m    414\u001b[0m     \u001b[38;5;28;01mif\u001b[39;00m \u001b[38;5;129;01mnot\u001b[39;00m allow_mgr:\n\u001b[1;32m    415\u001b[0m         \u001b[38;5;66;03m# GH#52419\u001b[39;00m\n\u001b[1;32m    416\u001b[0m         warnings\u001b[38;5;241m.\u001b[39mwarn(\n\u001b[1;32m    417\u001b[0m             \u001b[38;5;124mf\u001b[39m\u001b[38;5;124m\"\u001b[39m\u001b[38;5;124mPassing a \u001b[39m\u001b[38;5;132;01m{\u001b[39;00m\u001b[38;5;28mtype\u001b[39m(data)\u001b[38;5;241m.\u001b[39m\u001b[38;5;18m__name__\u001b[39m\u001b[38;5;132;01m}\u001b[39;00m\u001b[38;5;124m to \u001b[39m\u001b[38;5;132;01m{\u001b[39;00m\u001b[38;5;28mtype\u001b[39m(\u001b[38;5;28mself\u001b[39m)\u001b[38;5;241m.\u001b[39m\u001b[38;5;18m__name__\u001b[39m\u001b[38;5;132;01m}\u001b[39;00m\u001b[38;5;124m \u001b[39m\u001b[38;5;124m\"\u001b[39m\n\u001b[1;32m    418\u001b[0m             \u001b[38;5;124m\"\u001b[39m\u001b[38;5;124mis deprecated and will raise in a future version. \u001b[39m\u001b[38;5;124m\"\u001b[39m\n\u001b[0;32m   (...)\u001b[0m\n\u001b[1;32m    421\u001b[0m             stacklevel\u001b[38;5;241m=\u001b[39m\u001b[38;5;241m2\u001b[39m,\n\u001b[1;32m    422\u001b[0m         )\n",
      "\u001b[0;31mKeyboardInterrupt\u001b[0m: "
     ]
    }
   ],
   "source": [
    "# Define grid cell size in kilometers\n",
    "granularity = .01 # Adjust as needed\n",
    "\n",
    "# Create a bounding box around area\n",
    "xmin, ymin, xmax, ymax = result.total_bounds\n",
    "x_grid = np.arange(xmin, xmax, granularity)\n",
    "y_grid = np.arange(ymin, ymax, granularity)\n",
    "\n",
    "grid = []\n",
    "\n",
    "for x in x_grid:\n",
    "    for y in y_grid:\n",
    "        temp = np.empty((7,7), dtype=object) # this can changed\n",
    "        for i in range(-3, 4):\n",
    "            for j in range(-3, 4):\n",
    "                curr_x, curr_y = x + i * granularity, y + j * granularity\n",
    "\n",
    "                if xmin <= curr_x <= xmax and ymin <= curr_y <= ymax: # bounds check\n",
    "                    individual_point = Point(curr_x, curr_y)\n",
    "                    pfas_val = 0\n",
    "                    for _, basin in result.iterrows(): # search through basins\n",
    "                        if individual_point.intersects(basin['geometry']):\n",
    "                            pfas_val = basin['PFAS_total'] \n",
    "                            break # stop at first one\n",
    "                    \n",
    "                    temp[i + 3, j + 3] = {'geometry': individual_point, 'longitude': x, 'latitude': y, 'PFAS_total': pfas_val}\n",
    "        \n",
    "        grid.append(temp)\n",
    "\n",
    "grid_array = np.array(grid)"
   ]
  },
  {
   "cell_type": "code",
   "execution_count": null,
   "metadata": {},
   "outputs": [],
   "source": []
  },
  {
   "cell_type": "code",
   "execution_count": 24,
   "metadata": {},
   "outputs": [],
   "source": [
    "result = result.drop('index_left', axis=1) # maybe rename left_index to something else"
   ]
  },
  {
   "cell_type": "code",
   "execution_count": 25,
   "metadata": {},
   "outputs": [
    {
     "ename": "NameError",
     "evalue": "name 'grid_cells' is not defined",
     "output_type": "error",
     "traceback": [
      "\u001b[0;31m---------------------------------------------------------------------------\u001b[0m",
      "\u001b[0;31mNameError\u001b[0m                                 Traceback (most recent call last)",
      "Cell \u001b[0;32mIn[25], line 2\u001b[0m\n\u001b[1;32m      1\u001b[0m \u001b[38;5;66;03m# Spatial join using sjoin with predicate parameter\u001b[39;00m\n\u001b[0;32m----> 2\u001b[0m joined \u001b[38;5;241m=\u001b[39m gpd\u001b[38;5;241m.\u001b[39msjoin(\u001b[43mgrid_cells\u001b[49m, result, how\u001b[38;5;241m=\u001b[39m\u001b[38;5;124m\"\u001b[39m\u001b[38;5;124mleft\u001b[39m\u001b[38;5;124m\"\u001b[39m, op\u001b[38;5;241m=\u001b[39m\u001b[38;5;124m'\u001b[39m\u001b[38;5;124mintersects\u001b[39m\u001b[38;5;124m'\u001b[39m) \u001b[38;5;66;03m# change op to predicate\u001b[39;00m\n\u001b[1;32m      4\u001b[0m joined\u001b[38;5;241m.\u001b[39mhead()\n",
      "\u001b[0;31mNameError\u001b[0m: name 'grid_cells' is not defined"
     ]
    }
   ],
   "source": [
    "# Spatial join using sjoin with predicate parameter\n",
    "joined = gpd.sjoin(grid_cells, result, how=\"left\", op='intersects') # change op to predicate\n",
    "\n",
    "joined.head()"
   ]
  },
  {
   "cell_type": "code",
   "execution_count": 49,
   "metadata": {},
   "outputs": [
    {
     "data": {
      "image/png": "[encoded data removed]",
      "text/plain": [
       "<Figure size 1000x800 with 2 Axes>"
      ]
     },
     "metadata": {},
     "output_type": "display_data"
    }
   ],
   "source": [
    "offset = 1e-8\n",
    "joined['log_PFAStotal'] = joined['PFAS_total_right'] + offset\n",
    "vmin = joined['log_PFAStotal'].min()  # Set to the minimum non-zero value\n",
    "vmax = joined['log_PFAStotal'].max()\n",
    "fig, ax = plt.subplots(1, 1, figsize=(10, 8))\n",
    "joined.plot(column='log_PFAStotal', cmap='viridis', legend=True, norm=LogNorm(vmin=vmin, vmax=vmax), ax=ax)\n",
    "\n",
    "# Add a title and show the plot\n",
    "plt.title('PFAS Total (Right) Distribution (Logarithmic Scale)')\n",
    "plt.savefig('PFAS_total_log_plot', dpi=450)\n",
    "plt.show()"
   ]
  },
  {
   "cell_type": "code",
   "execution_count": 40,
   "metadata": {},
   "outputs": [
    {
     "data": {
      "text/plain": [
       "count    2.426160e+05\n",
       "mean     1.514427e+03\n",
       "std      3.364363e+04\n",
       "min      0.000000e+00\n",
       "25%      3.240000e+01\n",
       "50%      4.930000e+01\n",
       "75%      7.850000e+01\n",
       "max      2.590829e+06\n",
       "Name: PFAS_total_right, dtype: float64"
      ]
     },
     "execution_count": 40,
     "metadata": {},
     "output_type": "execute_result"
    }
   ],
   "source": [
    "filtered_rows = joined[joined['PFAS_total_right'].notna()]\n",
    "filtered_rows['PFAS_total_right'].describe()"
   ]
  },
  {
   "cell_type": "code",
   "execution_count": 16,
   "metadata": {
    "colab": {
     "base_uri": "https://localhost:8080/",
     "height": 853
    },
    "executionInfo": {
     "elapsed": 6442528,
     "status": "ok",
     "timestamp": 1704936744184,
     "user": {
      "displayName": "Theodore Bromet Jagodits",
      "userId": "10980086572780053502"
     },
     "user_tz": 480
    },
    "id": "iJR9Y71NKuYJ",
    "outputId": "b7347b7a-06b8-4d62-810c-d3988c3a06fa"
   },
   "outputs": [
    {
     "ename": "KeyboardInterrupt",
     "evalue": "",
     "output_type": "error",
     "traceback": [
      "\u001b[0;31m---------------------------------------------------------------------------\u001b[0m",
      "\u001b[0;31mKeyboardInterrupt\u001b[0m                         Traceback (most recent call last)",
      "Cell \u001b[0;32mIn[16], line 2\u001b[0m\n\u001b[1;32m      1\u001b[0m \u001b[38;5;28;01mfor\u001b[39;00m idx, cell \u001b[38;5;129;01min\u001b[39;00m grid_cells\u001b[38;5;241m.\u001b[39miterrows():\n\u001b[0;32m----> 2\u001b[0m   \u001b[38;5;28;01mfor\u001b[39;00m result_idx, result_row \u001b[38;5;129;01min\u001b[39;00m result\u001b[38;5;241m.\u001b[39miterrows():\n\u001b[1;32m      3\u001b[0m     \u001b[38;5;28;01mif\u001b[39;00m cell\u001b[38;5;241m.\u001b[39mgeometry\u001b[38;5;241m.\u001b[39mintersects(result_row\u001b[38;5;241m.\u001b[39mgeometry):\n\u001b[1;32m      4\u001b[0m       grid_cells\u001b[38;5;241m.\u001b[39mat[idx, \u001b[38;5;124m'\u001b[39m\u001b[38;5;124mPFAS_total\u001b[39m\u001b[38;5;124m'\u001b[39m] \u001b[38;5;241m=\u001b[39m result_row[\u001b[38;5;124m'\u001b[39m\u001b[38;5;124mPFAS_total\u001b[39m\u001b[38;5;124m'\u001b[39m]\n",
      "File \u001b[0;32m~/.pyenv/versions/3.10.13/envs/pfas/lib/python3.10/site-packages/pandas/core/frame.py:1542\u001b[0m, in \u001b[0;36mDataFrame.iterrows\u001b[0;34m(self)\u001b[0m\n\u001b[1;32m   1540\u001b[0m using_cow \u001b[38;5;241m=\u001b[39m using_copy_on_write()\n\u001b[1;32m   1541\u001b[0m \u001b[38;5;28;01mfor\u001b[39;00m k, v \u001b[38;5;129;01min\u001b[39;00m \u001b[38;5;28mzip\u001b[39m(\u001b[38;5;28mself\u001b[39m\u001b[38;5;241m.\u001b[39mindex, \u001b[38;5;28mself\u001b[39m\u001b[38;5;241m.\u001b[39mvalues):\n\u001b[0;32m-> 1542\u001b[0m     s \u001b[38;5;241m=\u001b[39m \u001b[43mklass\u001b[49m\u001b[43m(\u001b[49m\u001b[43mv\u001b[49m\u001b[43m,\u001b[49m\u001b[43m \u001b[49m\u001b[43mindex\u001b[49m\u001b[38;5;241;43m=\u001b[39;49m\u001b[43mcolumns\u001b[49m\u001b[43m,\u001b[49m\u001b[43m \u001b[49m\u001b[43mname\u001b[49m\u001b[38;5;241;43m=\u001b[39;49m\u001b[43mk\u001b[49m\u001b[43m)\u001b[49m\u001b[38;5;241m.\u001b[39m__finalize__(\u001b[38;5;28mself\u001b[39m)\n\u001b[1;32m   1543\u001b[0m     \u001b[38;5;28;01mif\u001b[39;00m using_cow \u001b[38;5;129;01mand\u001b[39;00m \u001b[38;5;28mself\u001b[39m\u001b[38;5;241m.\u001b[39m_mgr\u001b[38;5;241m.\u001b[39mis_single_block:\n\u001b[1;32m   1544\u001b[0m         s\u001b[38;5;241m.\u001b[39m_mgr\u001b[38;5;241m.\u001b[39madd_references(\u001b[38;5;28mself\u001b[39m\u001b[38;5;241m.\u001b[39m_mgr)  \u001b[38;5;66;03m# type: ignore[arg-type]\u001b[39;00m\n",
      "File \u001b[0;32m~/.pyenv/versions/3.10.13/envs/pfas/lib/python3.10/site-packages/geopandas/geodataframe.py:1645\u001b[0m, in \u001b[0;36mGeoDataFrame._constructor_sliced.<locals>._geodataframe_constructor_sliced\u001b[0;34m(*args, **kwargs)\u001b[0m\n\u001b[1;32m   1629\u001b[0m \u001b[38;5;28;01mdef\u001b[39;00m \u001b[38;5;21m_geodataframe_constructor_sliced\u001b[39m(\u001b[38;5;241m*\u001b[39margs, \u001b[38;5;241m*\u001b[39m\u001b[38;5;241m*\u001b[39mkwargs):\n\u001b[1;32m   1630\u001b[0m \u001b[38;5;250m    \u001b[39m\u001b[38;5;124;03m\"\"\"\u001b[39;00m\n\u001b[1;32m   1631\u001b[0m \u001b[38;5;124;03m    A specialized (Geo)Series constructor which can fall back to a\u001b[39;00m\n\u001b[1;32m   1632\u001b[0m \u001b[38;5;124;03m    Series if a certain operation does not produce geometries:\u001b[39;00m\n\u001b[0;32m   (...)\u001b[0m\n\u001b[1;32m   1643\u001b[0m \u001b[38;5;124;03m      checking the identity of the index)\u001b[39;00m\n\u001b[1;32m   1644\u001b[0m \u001b[38;5;124;03m    \"\"\"\u001b[39;00m\n\u001b[0;32m-> 1645\u001b[0m     srs \u001b[38;5;241m=\u001b[39m \u001b[43mpd\u001b[49m\u001b[38;5;241;43m.\u001b[39;49m\u001b[43mSeries\u001b[49m\u001b[43m(\u001b[49m\u001b[38;5;241;43m*\u001b[39;49m\u001b[43margs\u001b[49m\u001b[43m,\u001b[49m\u001b[43m \u001b[49m\u001b[38;5;241;43m*\u001b[39;49m\u001b[38;5;241;43m*\u001b[39;49m\u001b[43mkwargs\u001b[49m\u001b[43m)\u001b[49m\n\u001b[1;32m   1646\u001b[0m     is_row_proxy \u001b[38;5;241m=\u001b[39m srs\u001b[38;5;241m.\u001b[39mindex \u001b[38;5;129;01mis\u001b[39;00m \u001b[38;5;28mself\u001b[39m\u001b[38;5;241m.\u001b[39mcolumns\n\u001b[1;32m   1647\u001b[0m     \u001b[38;5;28;01mif\u001b[39;00m is_geometry_type(srs) \u001b[38;5;129;01mand\u001b[39;00m \u001b[38;5;129;01mnot\u001b[39;00m is_row_proxy:\n",
      "File \u001b[0;32m~/.pyenv/versions/3.10.13/envs/pfas/lib/python3.10/site-packages/pandas/core/series.py:573\u001b[0m, in \u001b[0;36mSeries.__init__\u001b[0;34m(self, data, index, dtype, name, copy, fastpath)\u001b[0m\n\u001b[1;32m    571\u001b[0m         data \u001b[38;5;241m=\u001b[39m [data]\n\u001b[1;32m    572\u001b[0m     index \u001b[38;5;241m=\u001b[39m default_index(\u001b[38;5;28mlen\u001b[39m(data))\n\u001b[0;32m--> 573\u001b[0m \u001b[38;5;28;01melif\u001b[39;00m \u001b[43mis_list_like\u001b[49m\u001b[43m(\u001b[49m\u001b[43mdata\u001b[49m\u001b[43m)\u001b[49m:\n\u001b[1;32m    574\u001b[0m     com\u001b[38;5;241m.\u001b[39mrequire_length_match(data, index)\n\u001b[1;32m    576\u001b[0m \u001b[38;5;66;03m# create/copy the manager\u001b[39;00m\n",
      "\u001b[0;31mKeyboardInterrupt\u001b[0m: "
     ]
    }
   ],
   "source": [
    "for idx, cell in grid_cells.iterrows():\n",
    "  for result_idx, result_row in result.iterrows():\n",
    "    if cell.geometry.intersects(result_row.geometry):\n",
    "      grid_cells.at[idx, 'PFAS_total'] = result_row['PFAS_total']\n",
    "      continue\n",
    "# grid_cells.to_file('grid_with_pfas.zip', driver='ESRI Shapefile') # useless\n",
    "# Define the colormap for PFAS values\n",
    "cmap = plt.get_cmap('viridis')\n",
    "\n",
    "# Normalize the PFAS values to fit the colormap\n",
    "norm = Normalize(vmin=grid_cells['PFAS_total'].min(), vmax=grid_cells['PFAS_total'].max())\n",
    "\n",
    "# Create a figure and axis\n",
    "fig, ax = plt.subplots(1, 1, figsize=(10, 10))\n",
    "\n",
    "# Plot the grid cells with PFAS coloring\n",
    "grid_cells.plot(column='PFAS_total', cmap=cmap, norm=norm, ax=ax, legend=True)\n",
    "\n",
    "# Add a title\n",
    "ax.set_title(\"Grid Cells with PFAS Coloring\")\n",
    "\n",
    "# Show the plot\n",
    "plt.show()"
   ]
  },
  {
   "cell_type": "code",
   "execution_count": 17,
   "metadata": {},
   "outputs": [
    {
     "name": "stderr",
     "output_type": "stream",
     "text": [
      "/tmp/ipykernel_1126/2702717634.py:1: FutureWarning: A value is trying to be set on a copy of a DataFrame or Series through chained assignment using an inplace method.\n",
      "The behavior will change in pandas 3.0. This inplace method will never work because the intermediate object on which we are setting values always behaves as a copy.\n",
      "\n",
      "For example, when doing 'df[col].method(value, inplace=True)', try using 'df.method({col: value}, inplace=True)' or df[col] = df[col].method(value) instead, to perform the operation inplace on the original object.\n",
      "\n",
      "\n",
      "  grid_cells['PFAS_total'].fillna(0, inplace=True)\n"
     ]
    },
    {
     "data": {
      "text/plain": [
       "0"
      ]
     },
     "execution_count": 17,
     "metadata": {},
     "output_type": "execute_result"
    }
   ],
   "source": [
    "grid_cells['PFAS_total'].fillna(0, inplace=True)\n",
    "grid_cells['PFAS_total'].isna().sum()\n"
   ]
  },
  {
   "cell_type": "markdown",
   "metadata": {
    "id": "K1YEIqMyE24k"
   },
   "source": [
    "\n",
    "\n",
    "```\n",
    "go through every basin:\n",
    "  find all points within that basin location by coordinate\n",
    "  avg/take last known point, assign to new col in basin = PFAS total for ex.\n",
    "  if na: leave NA\n",
    "\n",
    "----- GRID\n",
    "\n",
    "define GRID itself which we can change 1sqkm etc. == i think already done\n",
    "\n",
    "go through all squares in grid:\n",
    "  take middle of square and find which basin it lies on\n",
    "  assign PFAS_total & Basin(? what this mean == have to do for all map data) = for categorical give num? for numerical give num OR binary ex. river = T/F\n",
    "```\n",
    "\n"
   ]
  },
  {
   "cell_type": "code",
   "execution_count": null,
   "metadata": {
    "id": "5dZ8QG4ZTdSs"
   },
   "outputs": [],
   "source": []
  }
 ],
 "metadata": {
  "colab": {
   "authorship_tag": "ABX9TyOUd/K9d69cGLqqnt04BYb5",
   "provenance": []
  },
  "kernelspec": {
   "display_name": "Python 3 (ipykernel)",
   "language": "python",
   "name": "python3"
  }
 },
 "nbformat": 4,
 "nbformat_minor": 4
}
